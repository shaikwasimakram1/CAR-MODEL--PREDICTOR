{
 "cells": [
  {
   "cell_type": "code",
   "execution_count": 2,
   "metadata": {},
   "outputs": [],
   "source": [
    "# importing all necessary libraries\n",
    "import pandas as pd\n",
    "import numpy as np\n",
    "import seaborn as sns\n",
    "import matplotlib.pyplot as plt\n",
    "from sklearn.preprocessing import LabelEncoder\n",
    "from sklearn.model_selection import train_test_split\n",
    "from sklearn.linear_model import LinearRegression\n",
    "from sklearn.ensemble import RandomForestRegressor\n"
   ]
  },
  {
   "cell_type": "code",
   "execution_count": 3,
   "metadata": {},
   "outputs": [],
   "source": [
    "data = pd.read_csv('data.csv')"
   ]
  },
  {
   "cell_type": "code",
   "execution_count": 4,
   "metadata": {},
   "outputs": [
    {
     "data": {
      "text/html": [
       "<div>\n",
       "<style scoped>\n",
       "    .dataframe tbody tr th:only-of-type {\n",
       "        vertical-align: middle;\n",
       "    }\n",
       "\n",
       "    .dataframe tbody tr th {\n",
       "        vertical-align: top;\n",
       "    }\n",
       "\n",
       "    .dataframe thead th {\n",
       "        text-align: right;\n",
       "    }\n",
       "</style>\n",
       "<table border=\"1\" class=\"dataframe\">\n",
       "  <thead>\n",
       "    <tr style=\"text-align: right;\">\n",
       "      <th></th>\n",
       "      <th>Make</th>\n",
       "      <th>Model</th>\n",
       "      <th>Year</th>\n",
       "      <th>Engine Fuel Type</th>\n",
       "      <th>Engine HP</th>\n",
       "      <th>Engine Cylinders</th>\n",
       "      <th>Transmission Type</th>\n",
       "      <th>Driven_Wheels</th>\n",
       "      <th>Number of Doors</th>\n",
       "      <th>Market Category</th>\n",
       "      <th>Vehicle Size</th>\n",
       "      <th>Vehicle Style</th>\n",
       "      <th>highway MPG</th>\n",
       "      <th>city mpg</th>\n",
       "      <th>Popularity</th>\n",
       "      <th>MSRP</th>\n",
       "    </tr>\n",
       "  </thead>\n",
       "  <tbody>\n",
       "    <tr>\n",
       "      <th>0</th>\n",
       "      <td>BMW</td>\n",
       "      <td>1 Series M</td>\n",
       "      <td>2011</td>\n",
       "      <td>premium unleaded (required)</td>\n",
       "      <td>335.0</td>\n",
       "      <td>6.0</td>\n",
       "      <td>MANUAL</td>\n",
       "      <td>rear wheel drive</td>\n",
       "      <td>2.0</td>\n",
       "      <td>Factory Tuner,Luxury,High-Performance</td>\n",
       "      <td>Compact</td>\n",
       "      <td>Coupe</td>\n",
       "      <td>26</td>\n",
       "      <td>19</td>\n",
       "      <td>3916</td>\n",
       "      <td>46135</td>\n",
       "    </tr>\n",
       "    <tr>\n",
       "      <th>1</th>\n",
       "      <td>BMW</td>\n",
       "      <td>1 Series</td>\n",
       "      <td>2011</td>\n",
       "      <td>premium unleaded (required)</td>\n",
       "      <td>300.0</td>\n",
       "      <td>6.0</td>\n",
       "      <td>MANUAL</td>\n",
       "      <td>rear wheel drive</td>\n",
       "      <td>2.0</td>\n",
       "      <td>Luxury,Performance</td>\n",
       "      <td>Compact</td>\n",
       "      <td>Convertible</td>\n",
       "      <td>28</td>\n",
       "      <td>19</td>\n",
       "      <td>3916</td>\n",
       "      <td>40650</td>\n",
       "    </tr>\n",
       "    <tr>\n",
       "      <th>2</th>\n",
       "      <td>BMW</td>\n",
       "      <td>1 Series</td>\n",
       "      <td>2011</td>\n",
       "      <td>premium unleaded (required)</td>\n",
       "      <td>300.0</td>\n",
       "      <td>6.0</td>\n",
       "      <td>MANUAL</td>\n",
       "      <td>rear wheel drive</td>\n",
       "      <td>2.0</td>\n",
       "      <td>Luxury,High-Performance</td>\n",
       "      <td>Compact</td>\n",
       "      <td>Coupe</td>\n",
       "      <td>28</td>\n",
       "      <td>20</td>\n",
       "      <td>3916</td>\n",
       "      <td>36350</td>\n",
       "    </tr>\n",
       "    <tr>\n",
       "      <th>3</th>\n",
       "      <td>BMW</td>\n",
       "      <td>1 Series</td>\n",
       "      <td>2011</td>\n",
       "      <td>premium unleaded (required)</td>\n",
       "      <td>230.0</td>\n",
       "      <td>6.0</td>\n",
       "      <td>MANUAL</td>\n",
       "      <td>rear wheel drive</td>\n",
       "      <td>2.0</td>\n",
       "      <td>Luxury,Performance</td>\n",
       "      <td>Compact</td>\n",
       "      <td>Coupe</td>\n",
       "      <td>28</td>\n",
       "      <td>18</td>\n",
       "      <td>3916</td>\n",
       "      <td>29450</td>\n",
       "    </tr>\n",
       "    <tr>\n",
       "      <th>4</th>\n",
       "      <td>BMW</td>\n",
       "      <td>1 Series</td>\n",
       "      <td>2011</td>\n",
       "      <td>premium unleaded (required)</td>\n",
       "      <td>230.0</td>\n",
       "      <td>6.0</td>\n",
       "      <td>MANUAL</td>\n",
       "      <td>rear wheel drive</td>\n",
       "      <td>2.0</td>\n",
       "      <td>Luxury</td>\n",
       "      <td>Compact</td>\n",
       "      <td>Convertible</td>\n",
       "      <td>28</td>\n",
       "      <td>18</td>\n",
       "      <td>3916</td>\n",
       "      <td>34500</td>\n",
       "    </tr>\n",
       "    <tr>\n",
       "      <th>...</th>\n",
       "      <td>...</td>\n",
       "      <td>...</td>\n",
       "      <td>...</td>\n",
       "      <td>...</td>\n",
       "      <td>...</td>\n",
       "      <td>...</td>\n",
       "      <td>...</td>\n",
       "      <td>...</td>\n",
       "      <td>...</td>\n",
       "      <td>...</td>\n",
       "      <td>...</td>\n",
       "      <td>...</td>\n",
       "      <td>...</td>\n",
       "      <td>...</td>\n",
       "      <td>...</td>\n",
       "      <td>...</td>\n",
       "    </tr>\n",
       "    <tr>\n",
       "      <th>11909</th>\n",
       "      <td>Acura</td>\n",
       "      <td>ZDX</td>\n",
       "      <td>2012</td>\n",
       "      <td>premium unleaded (required)</td>\n",
       "      <td>300.0</td>\n",
       "      <td>6.0</td>\n",
       "      <td>AUTOMATIC</td>\n",
       "      <td>all wheel drive</td>\n",
       "      <td>4.0</td>\n",
       "      <td>Crossover,Hatchback,Luxury</td>\n",
       "      <td>Midsize</td>\n",
       "      <td>4dr Hatchback</td>\n",
       "      <td>23</td>\n",
       "      <td>16</td>\n",
       "      <td>204</td>\n",
       "      <td>46120</td>\n",
       "    </tr>\n",
       "    <tr>\n",
       "      <th>11910</th>\n",
       "      <td>Acura</td>\n",
       "      <td>ZDX</td>\n",
       "      <td>2012</td>\n",
       "      <td>premium unleaded (required)</td>\n",
       "      <td>300.0</td>\n",
       "      <td>6.0</td>\n",
       "      <td>AUTOMATIC</td>\n",
       "      <td>all wheel drive</td>\n",
       "      <td>4.0</td>\n",
       "      <td>Crossover,Hatchback,Luxury</td>\n",
       "      <td>Midsize</td>\n",
       "      <td>4dr Hatchback</td>\n",
       "      <td>23</td>\n",
       "      <td>16</td>\n",
       "      <td>204</td>\n",
       "      <td>56670</td>\n",
       "    </tr>\n",
       "    <tr>\n",
       "      <th>11911</th>\n",
       "      <td>Acura</td>\n",
       "      <td>ZDX</td>\n",
       "      <td>2012</td>\n",
       "      <td>premium unleaded (required)</td>\n",
       "      <td>300.0</td>\n",
       "      <td>6.0</td>\n",
       "      <td>AUTOMATIC</td>\n",
       "      <td>all wheel drive</td>\n",
       "      <td>4.0</td>\n",
       "      <td>Crossover,Hatchback,Luxury</td>\n",
       "      <td>Midsize</td>\n",
       "      <td>4dr Hatchback</td>\n",
       "      <td>23</td>\n",
       "      <td>16</td>\n",
       "      <td>204</td>\n",
       "      <td>50620</td>\n",
       "    </tr>\n",
       "    <tr>\n",
       "      <th>11912</th>\n",
       "      <td>Acura</td>\n",
       "      <td>ZDX</td>\n",
       "      <td>2013</td>\n",
       "      <td>premium unleaded (recommended)</td>\n",
       "      <td>300.0</td>\n",
       "      <td>6.0</td>\n",
       "      <td>AUTOMATIC</td>\n",
       "      <td>all wheel drive</td>\n",
       "      <td>4.0</td>\n",
       "      <td>Crossover,Hatchback,Luxury</td>\n",
       "      <td>Midsize</td>\n",
       "      <td>4dr Hatchback</td>\n",
       "      <td>23</td>\n",
       "      <td>16</td>\n",
       "      <td>204</td>\n",
       "      <td>50920</td>\n",
       "    </tr>\n",
       "    <tr>\n",
       "      <th>11913</th>\n",
       "      <td>Lincoln</td>\n",
       "      <td>Zephyr</td>\n",
       "      <td>2006</td>\n",
       "      <td>regular unleaded</td>\n",
       "      <td>221.0</td>\n",
       "      <td>6.0</td>\n",
       "      <td>AUTOMATIC</td>\n",
       "      <td>front wheel drive</td>\n",
       "      <td>4.0</td>\n",
       "      <td>Luxury</td>\n",
       "      <td>Midsize</td>\n",
       "      <td>Sedan</td>\n",
       "      <td>26</td>\n",
       "      <td>17</td>\n",
       "      <td>61</td>\n",
       "      <td>28995</td>\n",
       "    </tr>\n",
       "  </tbody>\n",
       "</table>\n",
       "<p>11914 rows × 16 columns</p>\n",
       "</div>"
      ],
      "text/plain": [
       "          Make       Model  Year                Engine Fuel Type  Engine HP  \\\n",
       "0          BMW  1 Series M  2011     premium unleaded (required)      335.0   \n",
       "1          BMW    1 Series  2011     premium unleaded (required)      300.0   \n",
       "2          BMW    1 Series  2011     premium unleaded (required)      300.0   \n",
       "3          BMW    1 Series  2011     premium unleaded (required)      230.0   \n",
       "4          BMW    1 Series  2011     premium unleaded (required)      230.0   \n",
       "...        ...         ...   ...                             ...        ...   \n",
       "11909    Acura         ZDX  2012     premium unleaded (required)      300.0   \n",
       "11910    Acura         ZDX  2012     premium unleaded (required)      300.0   \n",
       "11911    Acura         ZDX  2012     premium unleaded (required)      300.0   \n",
       "11912    Acura         ZDX  2013  premium unleaded (recommended)      300.0   \n",
       "11913  Lincoln      Zephyr  2006                regular unleaded      221.0   \n",
       "\n",
       "       Engine Cylinders Transmission Type      Driven_Wheels  Number of Doors  \\\n",
       "0                   6.0            MANUAL   rear wheel drive              2.0   \n",
       "1                   6.0            MANUAL   rear wheel drive              2.0   \n",
       "2                   6.0            MANUAL   rear wheel drive              2.0   \n",
       "3                   6.0            MANUAL   rear wheel drive              2.0   \n",
       "4                   6.0            MANUAL   rear wheel drive              2.0   \n",
       "...                 ...               ...                ...              ...   \n",
       "11909               6.0         AUTOMATIC    all wheel drive              4.0   \n",
       "11910               6.0         AUTOMATIC    all wheel drive              4.0   \n",
       "11911               6.0         AUTOMATIC    all wheel drive              4.0   \n",
       "11912               6.0         AUTOMATIC    all wheel drive              4.0   \n",
       "11913               6.0         AUTOMATIC  front wheel drive              4.0   \n",
       "\n",
       "                             Market Category Vehicle Size  Vehicle Style  \\\n",
       "0      Factory Tuner,Luxury,High-Performance      Compact          Coupe   \n",
       "1                         Luxury,Performance      Compact    Convertible   \n",
       "2                    Luxury,High-Performance      Compact          Coupe   \n",
       "3                         Luxury,Performance      Compact          Coupe   \n",
       "4                                     Luxury      Compact    Convertible   \n",
       "...                                      ...          ...            ...   \n",
       "11909             Crossover,Hatchback,Luxury      Midsize  4dr Hatchback   \n",
       "11910             Crossover,Hatchback,Luxury      Midsize  4dr Hatchback   \n",
       "11911             Crossover,Hatchback,Luxury      Midsize  4dr Hatchback   \n",
       "11912             Crossover,Hatchback,Luxury      Midsize  4dr Hatchback   \n",
       "11913                                 Luxury      Midsize          Sedan   \n",
       "\n",
       "       highway MPG  city mpg  Popularity   MSRP  \n",
       "0               26        19        3916  46135  \n",
       "1               28        19        3916  40650  \n",
       "2               28        20        3916  36350  \n",
       "3               28        18        3916  29450  \n",
       "4               28        18        3916  34500  \n",
       "...            ...       ...         ...    ...  \n",
       "11909           23        16         204  46120  \n",
       "11910           23        16         204  56670  \n",
       "11911           23        16         204  50620  \n",
       "11912           23        16         204  50920  \n",
       "11913           26        17          61  28995  \n",
       "\n",
       "[11914 rows x 16 columns]"
      ]
     },
     "execution_count": 4,
     "metadata": {},
     "output_type": "execute_result"
    }
   ],
   "source": [
    "data"
   ]
  },
  {
   "cell_type": "code",
   "execution_count": 47,
   "metadata": {},
   "outputs": [
    {
     "data": {
      "text/plain": [
       "array(['1 Series M', '1 Series', '2 Series', '3 Series Gran Turismo',\n",
       "       '3 Series', '4 Series Gran Coupe', '4 Series',\n",
       "       '5 Series Gran Turismo', '5 Series', '6 Series Gran Coupe',\n",
       "       '6 Series', '7 Series', '8 Series', 'ActiveHybrid 5',\n",
       "       'ActiveHybrid 7', 'ActiveHybrid X6', 'ALPINA B6 Gran Coupe',\n",
       "       'ALPINA B7', 'Alpina', 'i3', 'M2', 'M3', 'M4 GTS', 'M4', 'M5',\n",
       "       'M6 Gran Coupe', 'M6', 'M', 'X1', 'X3', 'X4', 'X5 M', 'X5', 'X6 M',\n",
       "       'X6', 'Z3', 'Z4 M', 'Z4', 'Z8'], dtype=object)"
      ]
     },
     "execution_count": 47,
     "metadata": {},
     "output_type": "execute_result"
    }
   ],
   "source": [
    "data['Model'][data['Make']=='BMW'].unique()"
   ]
  },
  {
   "cell_type": "code",
   "execution_count": 41,
   "metadata": {},
   "outputs": [
    {
     "data": {
      "text/plain": [
       "335.0"
      ]
     },
     "execution_count": 41,
     "metadata": {},
     "output_type": "execute_result"
    }
   ],
   "source": [
    "data['Engine HP'].values[0]"
   ]
  },
  {
   "cell_type": "code",
   "execution_count": 43,
   "metadata": {},
   "outputs": [
    {
     "data": {
      "text/plain": [
       "2011"
      ]
     },
     "execution_count": 43,
     "metadata": {},
     "output_type": "execute_result"
    }
   ],
   "source": [
    "data['Year'].values[0]"
   ]
  },
  {
   "cell_type": "code",
   "execution_count": 5,
   "metadata": {},
   "outputs": [
    {
     "data": {
      "text/plain": [
       "array(['1 Series M', '1 Series', '100', '124 Spider', '190-Class',\n",
       "       '2 Series', '200', '200SX', '240SX', '240', '2',\n",
       "       '3 Series Gran Turismo', '3 Series', '300-Class', '3000GT', '300',\n",
       "       '300M', '300ZX', '323', '350-Class', '350Z', '360', '370Z', '3',\n",
       "       '4 Series Gran Coupe', '4 Series', '400-Class', '420-Class',\n",
       "       '456M', '458 Italia', '4C', '4Runner', '5 Series Gran Turismo',\n",
       "       '5 Series', '500-Class', '500e', '500', '500L', '500X', '550',\n",
       "       '560-Class', '570S', '575M', '57', '599', '5',\n",
       "       '6 Series Gran Coupe', '6 Series', '600-Class', '6000',\n",
       "       '612 Scaglietti', '626', '62', '650S Coupe', '650S Spider', '6',\n",
       "       '7 Series', '718 Cayman', '740', '760', '780', '8 Series', '80',\n",
       "       '850', '86', '9-2X', '9-3 Griffin', '9-3', '9-4X', '9-5', '9-7X',\n",
       "       '9000', '900', '90', '911', '928', '929', '940', '944', '960',\n",
       "       '968', 'A3', 'A4 allroad', 'A4', 'A5', 'A6', 'A7', 'A8',\n",
       "       'Acadia Limited', 'Acadia', 'Accent', 'Acclaim',\n",
       "       'Accord Crosstour', 'Accord Hybrid', 'Accord Plug-In Hybrid',\n",
       "       'Accord', 'Achieva', 'ActiveHybrid 5', 'ActiveHybrid 7',\n",
       "       'ActiveHybrid X6', 'Aerio', 'Aerostar', 'Alero', 'Allante',\n",
       "       'allroad quattro', 'allroad', 'ALPINA B6 Gran Coupe', 'ALPINA B7',\n",
       "       'Alpina', 'Altima Hybrid', 'Altima', 'Amanti', 'AMG GT', 'Armada',\n",
       "       'Arnage', 'Aspen', 'Aspire', 'Astro Cargo', 'Astro', 'ATS Coupe',\n",
       "       'ATS-V', 'ATS', 'Aurora', 'Avalanche', 'Avalon Hybrid', 'Avalon',\n",
       "       'Avenger', 'Aventador', 'Aveo', 'Aviator', 'Axxess', 'Azera',\n",
       "       'Aztek', 'Azure T', 'Azure', 'B-Class Electric Drive',\n",
       "       'B-Series Pickup', 'B-Series Truck', 'B-Series', 'B9 Tribeca',\n",
       "       'Baja', 'Beetle Convertible', 'Beetle', 'Beretta',\n",
       "       'Black Diamond Avalanche', 'Blackwood', 'Blazer', 'Bolt EV',\n",
       "       'Bonneville', 'Borrego', 'Boxster', 'Bravada', 'Breeze',\n",
       "       'Bronco II', 'Bronco', 'Brooklands', 'Brougham', 'BRZ', 'C-Class',\n",
       "       'C-Max Hybrid', 'C30', 'C36 AMG', 'C43 AMG', 'C70', 'C8',\n",
       "       'Cabriolet', 'Cabrio', 'Cadenza', 'Caliber', 'California T',\n",
       "       'California', 'Camaro', 'Camry Hybrid', 'Camry Solara', 'Camry',\n",
       "       'Canyon', 'Caprice', 'Captiva Sport', 'Caravan', 'Carrera GT',\n",
       "       'Cascada', 'Catera', 'Cavalier', 'Cayenne', 'Cayman S', 'Cayman',\n",
       "       'CC', 'Celebrity', 'Celica', 'Century', 'Challenger', 'Charger',\n",
       "       'Chevy Van', 'Ciera', 'Cirrus', 'City Express', 'Civic CRX',\n",
       "       'Civic del Sol', 'Civic', 'C/K 1500 Series', 'C/K 2500 Series',\n",
       "       'CL-Class', 'CLA-Class', 'CL', 'Classic', 'CLK-Class', 'CLS-Class',\n",
       "       'Cobalt', 'Colorado', 'Colt', 'Concorde',\n",
       "       'Continental Flying Spur Speed', 'Continental Flying Spur',\n",
       "       'Continental GT Speed Convertible', 'Continental GT Speed',\n",
       "       'Continental GT3-R', 'Continental GT', 'Continental GTC Speed',\n",
       "       'Continental GTC', 'Continental Supersports Convertible',\n",
       "       'Continental Supersports', 'Continental', 'Contour SVT', 'Contour',\n",
       "       'Corniche', 'Corolla iM', 'Corolla', 'Corrado', 'Corsica',\n",
       "       'Corvette Stingray', 'Corvette', 'Coupe', 'CR-V', 'CR-Z',\n",
       "       'Cressida', 'Crossfire', 'Crosstour', 'Crosstrek',\n",
       "       'Crown Victoria', 'Cruze Limited', 'Cruze', 'CT 200h', 'CT6',\n",
       "       'CTS Coupe', 'CTS-V Coupe', 'CTS-V Wagon', 'CTS-V', 'CTS Wagon',\n",
       "       'CTS', 'Cube', 'Custom Cruiser', 'Cutlass Calais', 'Cutlass Ciera',\n",
       "       'Cutlass Supreme', 'Cutlass', 'CX-3', 'CX-5', 'CX-7', 'CX-9',\n",
       "       'Dakota', 'Dart', 'Dawn', 'Daytona', 'DB7', 'DB9 GT', 'DB9', 'DBS',\n",
       "       'Defender', 'DeVille', 'Diablo', 'Diamante', 'Discovery Series II',\n",
       "       'Discovery Sport', 'Discovery', 'DTS', 'Durango', 'Dynasty',\n",
       "       'E-150', 'E-250', 'E-Class', 'e-Golf', 'E-Series Van',\n",
       "       'E-Series Wagon', 'E55 AMG', 'ECHO', 'Eclipse Spyder', 'Eclipse',\n",
       "       'Edge', 'Eighty-Eight Royale', 'Eighty-Eight', 'Elantra Coupe',\n",
       "       'Elantra GT', 'Elantra Touring', 'Elantra', 'Eldorado', 'Electra',\n",
       "       'Element', 'Elise', 'Enclave', 'Encore', 'Endeavor', 'Entourage',\n",
       "       'Envision', 'Envoy XL', 'Envoy XUV', 'Envoy', 'Enzo', 'Eos',\n",
       "       'Equator', 'Equinox', 'Equus', 'ES 250', 'ES 300h', 'ES 300',\n",
       "       'ES 330', 'ES 350', 'Escalade ESV', 'Escalade EXT',\n",
       "       'Escalade Hybrid', 'Escalade', 'Escape Hybrid', 'Escape', 'Escort',\n",
       "       'Esprit', 'Estate Wagon', 'Esteem', 'EuroVan', 'Evora 400',\n",
       "       'Evora', 'EX35', 'Excel', 'Exige', 'EX', 'Expedition',\n",
       "       'Explorer Sport Trac', 'Explorer Sport', 'Explorer', 'Expo',\n",
       "       'Express Cargo', 'Express', 'F-150 Heritage',\n",
       "       'F-150 SVT Lightning', 'F-150', 'F-250', 'F12 Berlinetta', 'F430',\n",
       "       'Festiva', 'FF', 'Fiesta', 'Firebird', 'Fit EV', 'Fit',\n",
       "       'Five Hundred', 'FJ Cruiser', 'Fleetwood', 'Flex', 'Flying Spur',\n",
       "       'Focus RS', 'Focus ST', 'Focus', 'Forenza', 'Forester', 'Forte',\n",
       "       'Fox', 'FR-S', 'Freelander', 'Freestar', 'Freestyle', 'Frontier',\n",
       "       'Fusion Hybrid', 'Fusion', 'FX35', 'FX45', 'FX50', 'FX', 'G-Class',\n",
       "       'G Convertible', 'G Coupe', 'G Sedan', 'G20', 'G35',\n",
       "       'G37 Convertible', 'G37 Coupe', 'G37 Sedan', 'G37', 'G3', 'G5',\n",
       "       'G6', 'G80', 'G8', 'Galant', 'Gallardo', 'Genesis Coupe',\n",
       "       'Genesis', 'Ghibli', 'Ghost Series II', 'Ghost', 'GL-Class',\n",
       "       'GLA-Class', 'GLC-Class', 'GLE-Class Coupe', 'GLE-Class', 'GLI',\n",
       "       'GLK-Class', 'GLS-Class', 'Golf Alltrack', 'Golf GTI', 'Golf R',\n",
       "       'Golf SportWagen', 'Golf', 'Grand Am', 'Grand Caravan',\n",
       "       'Grand Prix', 'Grand Vitara', 'Grand Voyager', 'GranSport',\n",
       "       'GranTurismo Convertible', 'GranTurismo', 'GS 200t', 'GS 300',\n",
       "       'GS 350', 'GS 400', 'GS 430', 'GS 450h', 'GS 460', 'GS F', 'GT-R',\n",
       "       'GT', 'GTI', 'GTO', 'GX 460', 'GX 470', 'H3', 'H3T', 'HHR',\n",
       "       'Highlander Hybrid', 'Highlander', 'Horizon', 'HR-V', 'HS 250h',\n",
       "       'Huracan', 'i-MiEV', 'I30', 'I35', 'i3', 'iA', 'ILX Hybrid', 'ILX',\n",
       "       'Impala Limited', 'Impala', 'Imperial', 'Impreza WRX', 'Impreza',\n",
       "       'iM', 'Insight', 'Integra', 'Intrepid', 'Intrigue', 'iQ',\n",
       "       'IS 200t', 'IS 250 C', 'IS 250', 'IS 300', 'IS 350 C', 'IS 350',\n",
       "       'IS F', 'J30', 'Jetta GLI', 'Jetta Hybrid', 'Jetta SportWagen',\n",
       "       'Jetta', 'Jimmy', 'Journey', 'Juke', 'Justy', 'JX', 'K900',\n",
       "       'Kizashi', 'LaCrosse', 'Lancer Evolution', 'Lancer Sportback',\n",
       "       'Lancer', 'Land Cruiser', 'Landaulet', 'Laser', 'Le Baron',\n",
       "       'Le Mans', 'Leaf', 'Legacy', 'Legend', 'LeSabre', 'Levante', 'LFA',\n",
       "       'LHS', 'Loyale', 'LR2', 'LR3', 'LR4', 'LS 400', 'LS 430', 'LS 460',\n",
       "       'LS 600h L', 'LS', 'LSS', 'LTD Crown Victoria', 'Lucerne',\n",
       "       'Lumina Minivan', 'Lumina', 'LX 450', 'LX 470', 'LX 570',\n",
       "       'M-Class', 'M2', 'M30', 'M35', 'M37', 'M3', 'M4 GTS', 'M45', 'M4',\n",
       "       'M56', 'M5', 'M6 Gran Coupe', 'M6', 'Macan', 'Magnum',\n",
       "       'Malibu Classic', 'Malibu Hybrid', 'Malibu Limited', 'Malibu Maxx',\n",
       "       'Malibu', 'Mark LT', 'Mark VIII', 'Mark VII', 'Matrix', 'Maxima',\n",
       "       'Maybach', 'Mazdaspeed 3', 'Mazdaspeed 6', 'Mazdaspeed MX-5 Miata',\n",
       "       'Mazdaspeed Protege', 'M', 'MDX', 'Metris', 'Metro',\n",
       "       'Mighty Max Pickup', 'Millenia', 'Mirage G4', 'Mirage', 'MKC',\n",
       "       'MKS', 'MKT', 'MKX', 'MKZ Hybrid', 'MKZ', 'ML55 AMG', 'Model S',\n",
       "       'Monaco', 'Montana SV6', 'Montana', 'Monte Carlo', 'Montero Sport',\n",
       "       'Montero', 'MP4-12C', 'MPV', 'MR2 Spyder', 'MR2', 'Mulsanne',\n",
       "       'Murano CrossCabriolet', 'Murano', 'Murcielago',\n",
       "       'Mustang SVT Cobra', 'Mustang', 'MX-3', 'MX-5 Miata', 'MX-6',\n",
       "       'Navajo', 'Navigator', 'Neon', 'New Beetle', 'New Yorker',\n",
       "       'Ninety-Eight', 'Nitro', 'NSX', 'NV200', 'NX 200t', 'NX 300h',\n",
       "       'NX', 'Odyssey', 'Omni', 'Optima Hybrid', 'Optima', 'Outback',\n",
       "       'Outlander Sport', 'Outlander', 'Pacifica', 'Panamera',\n",
       "       'Park Avenue', 'Park Ward', 'Paseo', 'Passat', 'Passport',\n",
       "       'Pathfinder', 'Phaeton', 'Phantom Coupe', 'Phantom Drophead Coupe',\n",
       "       'Phantom', 'Pickup', 'Pilot', 'Precis', 'Prelude', 'Previa',\n",
       "       'Prius c', 'Prius Prime', 'Prius v', 'Prius', 'Prizm', 'Probe',\n",
       "       'Protege5', 'Protege', 'Prowler', 'PT Cruiser', 'Pulsar', 'Q3',\n",
       "       'Q40', 'Q45', 'Q50', 'Q5', 'Q60 Convertible', 'Q60 Coupe', 'Q70',\n",
       "       'Q7', 'Quattroporte', 'Quest', 'QX4', 'QX50', 'QX56', 'QX60',\n",
       "       'QX70', 'QX80', 'QX', 'R-Class', 'R32', 'R8', 'Rabbit', 'Raider',\n",
       "       'Rainier', 'Rally Wagon', 'RAM 150', 'RAM 250', 'Ram 50 Pickup',\n",
       "       'Ram Cargo', 'Ram Pickup 1500', 'Ram Van', 'Ram Wagon',\n",
       "       'Ramcharger', 'Range Rover Evoque', 'Range Rover Sport',\n",
       "       'Range Rover', 'Ranger', 'Rapide S', 'Rapide', 'RAV4 EV',\n",
       "       'RAV4 Hybrid', 'RAV4', 'RC 200t', 'RC 300', 'RC 350', 'RC F',\n",
       "       'RDX', 'Reatta', 'Regal', 'Regency', 'Rendezvous', 'Reno',\n",
       "       'Reventon', 'Ridgeline', 'Rio', 'Riviera', 'RL', 'RLX',\n",
       "       'Roadmaster', 'Rogue Select', 'Rogue', 'Rondo', 'Routan', 'RS 4',\n",
       "       'RS 5', 'RS 6', 'RS 7', 'RSX', 'RX 300', 'RX 330', 'RX 350',\n",
       "       'RX 400h', 'RX 450h', 'RX-7', 'RX-8', 'S-10 Blazer', 'S-10',\n",
       "       'S-15 Jimmy', 'S-15', 'S-Class', 'S2000', 'S3', 'S40', 'S4', 'S5',\n",
       "       'S60 Cross Country', 'S60', 'S6', 'S70', 'S7', 'S80', 'S8', 'S90',\n",
       "       'Safari Cargo', 'Safari', 'Samurai', 'Santa Fe Sport', 'Santa Fe',\n",
       "       'Savana Cargo', 'Savana', 'SC 300', 'SC 400', 'SC 430', 'Scoupe',\n",
       "       'Sebring', 'Sedona', 'Sentra', 'Sephia', 'Sequoia', 'Seville',\n",
       "       'Shadow', 'Shelby GT350', 'Shelby GT500', 'Sidekick', 'Sienna',\n",
       "       'Sierra 1500 Classic', 'Sierra 1500 Hybrid', 'Sierra 1500',\n",
       "       'Sierra 1500HD', 'Sierra C3', 'Sierra Classic 1500', 'Sigma',\n",
       "       'Silhouette', 'Silver Seraph', 'Silverado 1500 Classic',\n",
       "       'Silverado 1500 Hybrid', 'Silverado 1500', 'Sixty Special',\n",
       "       'Skylark', 'SL-Class', 'SLC-Class', 'SLK-Class', 'SLR McLaren',\n",
       "       'SLS AMG GT Final Edition', 'SLS AMG GT', 'SLS AMG', 'SLX',\n",
       "       'Solstice', 'Sonata Hybrid', 'Sonata', 'Sonic', 'Sonoma',\n",
       "       'Sorento', 'Soul EV', 'Soul', 'Spark EV', 'Spark', 'Spectra',\n",
       "       'Spirit', 'Sportage', 'Sportvan', 'Spyder', 'SQ5', 'SRT Viper',\n",
       "       'SRX', 'SS', 'SSR', 'Stanza', 'Stealth', 'Stratus', 'STS-V', 'STS',\n",
       "       'Suburban', 'Sunbird', 'Sundance', 'Sunfire', 'Superamerica',\n",
       "       'Supersports Convertible ISR', 'Supra', 'SVX', 'Swift', 'SX4',\n",
       "       'Syclone', 'T100', 'Tacoma', 'Tahoe Hybrid', 'Tahoe Limited/Z71',\n",
       "       'Tahoe', 'Taurus X', 'Taurus', 'TC', 'tC', 'Tempo', 'Tercel',\n",
       "       'Terrain', 'Terraza', 'Thunderbird', 'Tiburon', 'Tiguan', 'Titan',\n",
       "       'TL', 'TLX', 'Toronado', 'Torrent', 'Touareg 2', 'Touareg',\n",
       "       'Town and Country', 'Town Car', 'Tracker', 'TrailBlazer EXT',\n",
       "       'TrailBlazer', 'Trans Sport', 'Transit Connect', 'Transit Wagon',\n",
       "       'Traverse', 'Trax', 'Tribeca', 'Tribute Hybrid', 'Tribute',\n",
       "       'Truck', 'TSX Sport Wagon', 'TSX', 'TT RS', 'TT', 'TTS', 'Tucson',\n",
       "       'Tundra', 'Typhoon', 'Uplander', 'V12 Vanquish', 'V12 Vantage S',\n",
       "       'V12 Vantage', 'V40', 'V50', 'V60 Cross Country', 'V60', 'V70',\n",
       "       'V8 Vantage', 'V8', 'V90', 'Vanagon', 'Vandura', 'Van', 'Vanquish',\n",
       "       'Vanwagon', 'Veloster', 'Venture', 'Venza', 'Veracruz', 'Verano',\n",
       "       'Verona', 'Versa Note', 'Versa', 'Veyron 16.4', 'Vibe', 'Vigor',\n",
       "       'Viper', 'Virage', 'Vitara', 'Voyager', 'Windstar Cargo',\n",
       "       'Windstar', 'Wraith', 'WRX', 'X-90', 'X1', 'X3', 'X4', 'X5 M',\n",
       "       'X5', 'X6 M', 'X6', 'xA', 'xB', 'XC60', 'XC70', 'XC90', 'XC', 'xD',\n",
       "       'XG300', 'XG350', 'XL-7', 'XL7', 'XLR-V', 'XLR', 'XT5', 'Xterra',\n",
       "       'XTS', 'XT', 'XV Crosstrek', 'Yaris iA', 'Yaris', 'Yukon Denali',\n",
       "       'Yukon Hybrid', 'Yukon XL', 'Yukon', 'Z3', 'Z4 M', 'Z4', 'Z8',\n",
       "       'ZDX', 'Zephyr'], dtype=object)"
      ]
     },
     "execution_count": 5,
     "metadata": {},
     "output_type": "execute_result"
    }
   ],
   "source": [
    "data['Model'].unique()"
   ]
  },
  {
   "cell_type": "code",
   "execution_count": 6,
   "metadata": {},
   "outputs": [
    {
     "data": {
      "text/plain": [
       "Make                    0\n",
       "Model                   0\n",
       "Year                    0\n",
       "Engine Fuel Type        3\n",
       "Engine HP              69\n",
       "Engine Cylinders       30\n",
       "Transmission Type       0\n",
       "Driven_Wheels           0\n",
       "Number of Doors         6\n",
       "Market Category      3742\n",
       "Vehicle Size            0\n",
       "Vehicle Style           0\n",
       "highway MPG             0\n",
       "city mpg                0\n",
       "Popularity              0\n",
       "MSRP                    0\n",
       "dtype: int64"
      ]
     },
     "execution_count": 6,
     "metadata": {},
     "output_type": "execute_result"
    }
   ],
   "source": [
    "data.isnull().sum()"
   ]
  },
  {
   "cell_type": "code",
   "execution_count": 7,
   "metadata": {},
   "outputs": [
    {
     "data": {
      "text/plain": [
       "0    regular unleaded\n",
       "Name: Engine Fuel Type, dtype: object"
      ]
     },
     "execution_count": 7,
     "metadata": {},
     "output_type": "execute_result"
    }
   ],
   "source": [
    "data['Engine Fuel Type'].mode()"
   ]
  },
  {
   "cell_type": "code",
   "execution_count": 8,
   "metadata": {},
   "outputs": [],
   "source": [
    "data['Engine Fuel Type'].fillna('regular unleaded',inplace=True)"
   ]
  },
  {
   "cell_type": "code",
   "execution_count": 9,
   "metadata": {},
   "outputs": [
    {
     "data": {
      "text/plain": [
       "227.0"
      ]
     },
     "execution_count": 9,
     "metadata": {},
     "output_type": "execute_result"
    }
   ],
   "source": [
    "data['Engine HP'].median()"
   ]
  },
  {
   "cell_type": "code",
   "execution_count": 10,
   "metadata": {},
   "outputs": [],
   "source": [
    "data['Engine HP'].fillna(227.0,inplace=True)"
   ]
  },
  {
   "cell_type": "code",
   "execution_count": 11,
   "metadata": {},
   "outputs": [
    {
     "data": {
      "text/plain": [
       "6.0"
      ]
     },
     "execution_count": 11,
     "metadata": {},
     "output_type": "execute_result"
    }
   ],
   "source": [
    "data['Engine Cylinders'].median()"
   ]
  },
  {
   "cell_type": "code",
   "execution_count": 12,
   "metadata": {},
   "outputs": [],
   "source": [
    "data['Engine Cylinders'].fillna(6.0,inplace=True)"
   ]
  },
  {
   "cell_type": "code",
   "execution_count": 13,
   "metadata": {},
   "outputs": [
    {
     "data": {
      "text/plain": [
       "0    4.0\n",
       "Name: Number of Doors, dtype: float64"
      ]
     },
     "execution_count": 13,
     "metadata": {},
     "output_type": "execute_result"
    }
   ],
   "source": [
    "data['Number of Doors'].mode()"
   ]
  },
  {
   "cell_type": "code",
   "execution_count": 14,
   "metadata": {},
   "outputs": [],
   "source": [
    "data['Number of Doors'].fillna(4.0,inplace=True)"
   ]
  },
  {
   "cell_type": "code",
   "execution_count": 15,
   "metadata": {},
   "outputs": [],
   "source": [
    "data.drop(['Market Category'],axis = 1,inplace=True)"
   ]
  },
  {
   "cell_type": "code",
   "execution_count": 16,
   "metadata": {},
   "outputs": [
    {
     "data": {
      "text/plain": [
       "Make                 0\n",
       "Model                0\n",
       "Year                 0\n",
       "Engine Fuel Type     0\n",
       "Engine HP            0\n",
       "Engine Cylinders     0\n",
       "Transmission Type    0\n",
       "Driven_Wheels        0\n",
       "Number of Doors      0\n",
       "Vehicle Size         0\n",
       "Vehicle Style        0\n",
       "highway MPG          0\n",
       "city mpg             0\n",
       "Popularity           0\n",
       "MSRP                 0\n",
       "dtype: int64"
      ]
     },
     "execution_count": 16,
     "metadata": {},
     "output_type": "execute_result"
    }
   ],
   "source": [
    "data.isnull().sum()"
   ]
  },
  {
   "cell_type": "code",
   "execution_count": 17,
   "metadata": {},
   "outputs": [],
   "source": [
    "lb = LabelEncoder()"
   ]
  },
  {
   "cell_type": "code",
   "execution_count": 18,
   "metadata": {},
   "outputs": [],
   "source": [
    "data['Model_Vehicle_Size_encoder'] = lb.fit_transform(data['Vehicle Size'])"
   ]
  },
  {
   "cell_type": "code",
   "execution_count": 19,
   "metadata": {},
   "outputs": [],
   "source": [
    "data['Make_encoder'] = lb.fit_transform(data['Make'])"
   ]
  },
  {
   "cell_type": "code",
   "execution_count": 20,
   "metadata": {},
   "outputs": [],
   "source": [
    "data['Model_encoder'] = lb.fit_transform(data['Model'])"
   ]
  },
  {
   "cell_type": "code",
   "execution_count": 21,
   "metadata": {},
   "outputs": [],
   "source": [
    "data['Engine_Fuel_Type_encoder'] = lb.fit_transform(data['Engine Fuel Type'])"
   ]
  },
  {
   "cell_type": "code",
   "execution_count": 22,
   "metadata": {},
   "outputs": [],
   "source": [
    "data['Transmission_Type_encoder'] = lb.fit_transform(data['Transmission Type'])"
   ]
  },
  {
   "cell_type": "code",
   "execution_count": 23,
   "metadata": {},
   "outputs": [],
   "source": [
    "data['Driven_Wheels_encoder'] = lb.fit_transform(data['Driven_Wheels'])"
   ]
  },
  {
   "cell_type": "code",
   "execution_count": 24,
   "metadata": {},
   "outputs": [],
   "source": [
    "data['Model_Vehicle Style'] = lb.fit_transform(data['Vehicle Style'])"
   ]
  },
  {
   "cell_type": "code",
   "execution_count": 25,
   "metadata": {},
   "outputs": [],
   "source": [
    "data['Model_Vehicle_Size_encoder',] = lb.fit_transform(data['Vehicle Size'])"
   ]
  },
  {
   "cell_type": "code",
   "execution_count": 26,
   "metadata": {},
   "outputs": [
    {
     "data": {
      "text/html": [
       "<div>\n",
       "<style scoped>\n",
       "    .dataframe tbody tr th:only-of-type {\n",
       "        vertical-align: middle;\n",
       "    }\n",
       "\n",
       "    .dataframe tbody tr th {\n",
       "        vertical-align: top;\n",
       "    }\n",
       "\n",
       "    .dataframe thead th {\n",
       "        text-align: right;\n",
       "    }\n",
       "</style>\n",
       "<table border=\"1\" class=\"dataframe\">\n",
       "  <thead>\n",
       "    <tr style=\"text-align: right;\">\n",
       "      <th></th>\n",
       "      <th>Model_Vehicle_Size_encoder</th>\n",
       "      <th>Year</th>\n",
       "      <th>Model_Vehicle Style</th>\n",
       "      <th>Driven_Wheels_encoder</th>\n",
       "      <th>Transmission_Type_encoder</th>\n",
       "      <th>Engine_Fuel_Type_encoder</th>\n",
       "      <th>Model_encoder</th>\n",
       "      <th>Make_encoder</th>\n",
       "      <th>MSRP</th>\n",
       "    </tr>\n",
       "  </thead>\n",
       "  <tbody>\n",
       "    <tr>\n",
       "      <th>Model_Vehicle_Size_encoder</th>\n",
       "      <td>1.000000</td>\n",
       "      <td>0.102098</td>\n",
       "      <td>0.166140</td>\n",
       "      <td>-0.132160</td>\n",
       "      <td>-0.305262</td>\n",
       "      <td>-0.049011</td>\n",
       "      <td>0.020197</td>\n",
       "      <td>-0.102262</td>\n",
       "      <td>0.037162</td>\n",
       "    </tr>\n",
       "    <tr>\n",
       "      <th>Year</th>\n",
       "      <td>0.102098</td>\n",
       "      <td>1.000000</td>\n",
       "      <td>-0.067713</td>\n",
       "      <td>-0.183914</td>\n",
       "      <td>-0.361553</td>\n",
       "      <td>-0.253914</td>\n",
       "      <td>0.030913</td>\n",
       "      <td>-0.013936</td>\n",
       "      <td>0.227590</td>\n",
       "    </tr>\n",
       "    <tr>\n",
       "      <th>Model_Vehicle Style</th>\n",
       "      <td>0.166140</td>\n",
       "      <td>-0.067713</td>\n",
       "      <td>1.000000</td>\n",
       "      <td>0.099985</td>\n",
       "      <td>-0.035039</td>\n",
       "      <td>-0.044167</td>\n",
       "      <td>-0.091614</td>\n",
       "      <td>-0.057137</td>\n",
       "      <td>-0.010193</td>\n",
       "    </tr>\n",
       "    <tr>\n",
       "      <th>Driven_Wheels_encoder</th>\n",
       "      <td>-0.132160</td>\n",
       "      <td>-0.183914</td>\n",
       "      <td>0.099985</td>\n",
       "      <td>1.000000</td>\n",
       "      <td>0.173338</td>\n",
       "      <td>0.019046</td>\n",
       "      <td>-0.071920</td>\n",
       "      <td>-0.035689</td>\n",
       "      <td>-0.037943</td>\n",
       "    </tr>\n",
       "    <tr>\n",
       "      <th>Transmission_Type_encoder</th>\n",
       "      <td>-0.305262</td>\n",
       "      <td>-0.361553</td>\n",
       "      <td>-0.035039</td>\n",
       "      <td>0.173338</td>\n",
       "      <td>1.000000</td>\n",
       "      <td>0.123476</td>\n",
       "      <td>-0.074973</td>\n",
       "      <td>0.045022</td>\n",
       "      <td>-0.181742</td>\n",
       "    </tr>\n",
       "    <tr>\n",
       "      <th>Engine_Fuel_Type_encoder</th>\n",
       "      <td>-0.049011</td>\n",
       "      <td>-0.253914</td>\n",
       "      <td>-0.044167</td>\n",
       "      <td>0.019046</td>\n",
       "      <td>0.123476</td>\n",
       "      <td>1.000000</td>\n",
       "      <td>-0.010129</td>\n",
       "      <td>0.115823</td>\n",
       "      <td>-0.114778</td>\n",
       "    </tr>\n",
       "    <tr>\n",
       "      <th>Model_encoder</th>\n",
       "      <td>0.020197</td>\n",
       "      <td>0.030913</td>\n",
       "      <td>-0.091614</td>\n",
       "      <td>-0.071920</td>\n",
       "      <td>-0.074973</td>\n",
       "      <td>-0.010129</td>\n",
       "      <td>1.000000</td>\n",
       "      <td>0.037819</td>\n",
       "      <td>-0.029843</td>\n",
       "    </tr>\n",
       "    <tr>\n",
       "      <th>Make_encoder</th>\n",
       "      <td>-0.102262</td>\n",
       "      <td>-0.013936</td>\n",
       "      <td>-0.057137</td>\n",
       "      <td>-0.035689</td>\n",
       "      <td>0.045022</td>\n",
       "      <td>0.115823</td>\n",
       "      <td>0.037819</td>\n",
       "      <td>1.000000</td>\n",
       "      <td>-0.107331</td>\n",
       "    </tr>\n",
       "    <tr>\n",
       "      <th>MSRP</th>\n",
       "      <td>0.037162</td>\n",
       "      <td>0.227590</td>\n",
       "      <td>-0.010193</td>\n",
       "      <td>-0.037943</td>\n",
       "      <td>-0.181742</td>\n",
       "      <td>-0.114778</td>\n",
       "      <td>-0.029843</td>\n",
       "      <td>-0.107331</td>\n",
       "      <td>1.000000</td>\n",
       "    </tr>\n",
       "  </tbody>\n",
       "</table>\n",
       "</div>"
      ],
      "text/plain": [
       "                            Model_Vehicle_Size_encoder      Year  \\\n",
       "Model_Vehicle_Size_encoder                    1.000000  0.102098   \n",
       "Year                                          0.102098  1.000000   \n",
       "Model_Vehicle Style                           0.166140 -0.067713   \n",
       "Driven_Wheels_encoder                        -0.132160 -0.183914   \n",
       "Transmission_Type_encoder                    -0.305262 -0.361553   \n",
       "Engine_Fuel_Type_encoder                     -0.049011 -0.253914   \n",
       "Model_encoder                                 0.020197  0.030913   \n",
       "Make_encoder                                 -0.102262 -0.013936   \n",
       "MSRP                                          0.037162  0.227590   \n",
       "\n",
       "                            Model_Vehicle Style  Driven_Wheels_encoder  \\\n",
       "Model_Vehicle_Size_encoder             0.166140              -0.132160   \n",
       "Year                                  -0.067713              -0.183914   \n",
       "Model_Vehicle Style                    1.000000               0.099985   \n",
       "Driven_Wheels_encoder                  0.099985               1.000000   \n",
       "Transmission_Type_encoder             -0.035039               0.173338   \n",
       "Engine_Fuel_Type_encoder              -0.044167               0.019046   \n",
       "Model_encoder                         -0.091614              -0.071920   \n",
       "Make_encoder                          -0.057137              -0.035689   \n",
       "MSRP                                  -0.010193              -0.037943   \n",
       "\n",
       "                            Transmission_Type_encoder  \\\n",
       "Model_Vehicle_Size_encoder                  -0.305262   \n",
       "Year                                        -0.361553   \n",
       "Model_Vehicle Style                         -0.035039   \n",
       "Driven_Wheels_encoder                        0.173338   \n",
       "Transmission_Type_encoder                    1.000000   \n",
       "Engine_Fuel_Type_encoder                     0.123476   \n",
       "Model_encoder                               -0.074973   \n",
       "Make_encoder                                 0.045022   \n",
       "MSRP                                        -0.181742   \n",
       "\n",
       "                            Engine_Fuel_Type_encoder  Model_encoder  \\\n",
       "Model_Vehicle_Size_encoder                 -0.049011       0.020197   \n",
       "Year                                       -0.253914       0.030913   \n",
       "Model_Vehicle Style                        -0.044167      -0.091614   \n",
       "Driven_Wheels_encoder                       0.019046      -0.071920   \n",
       "Transmission_Type_encoder                   0.123476      -0.074973   \n",
       "Engine_Fuel_Type_encoder                    1.000000      -0.010129   \n",
       "Model_encoder                              -0.010129       1.000000   \n",
       "Make_encoder                                0.115823       0.037819   \n",
       "MSRP                                       -0.114778      -0.029843   \n",
       "\n",
       "                            Make_encoder      MSRP  \n",
       "Model_Vehicle_Size_encoder     -0.102262  0.037162  \n",
       "Year                           -0.013936  0.227590  \n",
       "Model_Vehicle Style            -0.057137 -0.010193  \n",
       "Driven_Wheels_encoder          -0.035689 -0.037943  \n",
       "Transmission_Type_encoder       0.045022 -0.181742  \n",
       "Engine_Fuel_Type_encoder        0.115823 -0.114778  \n",
       "Model_encoder                   0.037819 -0.029843  \n",
       "Make_encoder                    1.000000 -0.107331  \n",
       "MSRP                           -0.107331  1.000000  "
      ]
     },
     "execution_count": 26,
     "metadata": {},
     "output_type": "execute_result"
    }
   ],
   "source": [
    "data[['Model_Vehicle_Size_encoder','Year','Model_Vehicle Style','Driven_Wheels_encoder','Transmission_Type_encoder','Engine_Fuel_Type_encoder','Model_encoder','Make_encoder','MSRP']].corr()"
   ]
  },
  {
   "cell_type": "code",
   "execution_count": 27,
   "metadata": {},
   "outputs": [],
   "source": [
    "X = data[['Make_encoder','Model_encoder','Engine Cylinders','Engine HP','Engine_Fuel_Type_encoder',]]"
   ]
  },
  {
   "cell_type": "code",
   "execution_count": 28,
   "metadata": {},
   "outputs": [],
   "source": [
    "y = data['MSRP']"
   ]
  },
  {
   "cell_type": "code",
   "execution_count": 29,
   "metadata": {},
   "outputs": [],
   "source": [
    "X_train,X_test,y_train,y_test = train_test_split(X,y,test_size=0.25,random_state=2529)"
   ]
  },
  {
   "cell_type": "code",
   "execution_count": 30,
   "metadata": {},
   "outputs": [],
   "source": [
    "lr = LinearRegression()\n",
    "rf = RandomForestRegressor()"
   ]
  },
  {
   "cell_type": "code",
   "execution_count": 31,
   "metadata": {},
   "outputs": [
    {
     "data": {
      "text/html": [
       "<style>#sk-container-id-1 {color: black;}#sk-container-id-1 pre{padding: 0;}#sk-container-id-1 div.sk-toggleable {background-color: white;}#sk-container-id-1 label.sk-toggleable__label {cursor: pointer;display: block;width: 100%;margin-bottom: 0;padding: 0.3em;box-sizing: border-box;text-align: center;}#sk-container-id-1 label.sk-toggleable__label-arrow:before {content: \"▸\";float: left;margin-right: 0.25em;color: #696969;}#sk-container-id-1 label.sk-toggleable__label-arrow:hover:before {color: black;}#sk-container-id-1 div.sk-estimator:hover label.sk-toggleable__label-arrow:before {color: black;}#sk-container-id-1 div.sk-toggleable__content {max-height: 0;max-width: 0;overflow: hidden;text-align: left;background-color: #f0f8ff;}#sk-container-id-1 div.sk-toggleable__content pre {margin: 0.2em;color: black;border-radius: 0.25em;background-color: #f0f8ff;}#sk-container-id-1 input.sk-toggleable__control:checked~div.sk-toggleable__content {max-height: 200px;max-width: 100%;overflow: auto;}#sk-container-id-1 input.sk-toggleable__control:checked~label.sk-toggleable__label-arrow:before {content: \"▾\";}#sk-container-id-1 div.sk-estimator input.sk-toggleable__control:checked~label.sk-toggleable__label {background-color: #d4ebff;}#sk-container-id-1 div.sk-label input.sk-toggleable__control:checked~label.sk-toggleable__label {background-color: #d4ebff;}#sk-container-id-1 input.sk-hidden--visually {border: 0;clip: rect(1px 1px 1px 1px);clip: rect(1px, 1px, 1px, 1px);height: 1px;margin: -1px;overflow: hidden;padding: 0;position: absolute;width: 1px;}#sk-container-id-1 div.sk-estimator {font-family: monospace;background-color: #f0f8ff;border: 1px dotted black;border-radius: 0.25em;box-sizing: border-box;margin-bottom: 0.5em;}#sk-container-id-1 div.sk-estimator:hover {background-color: #d4ebff;}#sk-container-id-1 div.sk-parallel-item::after {content: \"\";width: 100%;border-bottom: 1px solid gray;flex-grow: 1;}#sk-container-id-1 div.sk-label:hover label.sk-toggleable__label {background-color: #d4ebff;}#sk-container-id-1 div.sk-serial::before {content: \"\";position: absolute;border-left: 1px solid gray;box-sizing: border-box;top: 0;bottom: 0;left: 50%;z-index: 0;}#sk-container-id-1 div.sk-serial {display: flex;flex-direction: column;align-items: center;background-color: white;padding-right: 0.2em;padding-left: 0.2em;position: relative;}#sk-container-id-1 div.sk-item {position: relative;z-index: 1;}#sk-container-id-1 div.sk-parallel {display: flex;align-items: stretch;justify-content: center;background-color: white;position: relative;}#sk-container-id-1 div.sk-item::before, #sk-container-id-1 div.sk-parallel-item::before {content: \"\";position: absolute;border-left: 1px solid gray;box-sizing: border-box;top: 0;bottom: 0;left: 50%;z-index: -1;}#sk-container-id-1 div.sk-parallel-item {display: flex;flex-direction: column;z-index: 1;position: relative;background-color: white;}#sk-container-id-1 div.sk-parallel-item:first-child::after {align-self: flex-end;width: 50%;}#sk-container-id-1 div.sk-parallel-item:last-child::after {align-self: flex-start;width: 50%;}#sk-container-id-1 div.sk-parallel-item:only-child::after {width: 0;}#sk-container-id-1 div.sk-dashed-wrapped {border: 1px dashed gray;margin: 0 0.4em 0.5em 0.4em;box-sizing: border-box;padding-bottom: 0.4em;background-color: white;}#sk-container-id-1 div.sk-label label {font-family: monospace;font-weight: bold;display: inline-block;line-height: 1.2em;}#sk-container-id-1 div.sk-label-container {text-align: center;}#sk-container-id-1 div.sk-container {/* jupyter's `normalize.less` sets `[hidden] { display: none; }` but bootstrap.min.css set `[hidden] { display: none !important; }` so we also need the `!important` here to be able to override the default hidden behavior on the sphinx rendered scikit-learn.org. See: https://github.com/scikit-learn/scikit-learn/issues/21755 */display: inline-block !important;position: relative;}#sk-container-id-1 div.sk-text-repr-fallback {display: none;}</style><div id=\"sk-container-id-1\" class=\"sk-top-container\"><div class=\"sk-text-repr-fallback\"><pre>LinearRegression()</pre><b>In a Jupyter environment, please rerun this cell to show the HTML representation or trust the notebook. <br />On GitHub, the HTML representation is unable to render, please try loading this page with nbviewer.org.</b></div><div class=\"sk-container\" hidden><div class=\"sk-item\"><div class=\"sk-estimator sk-toggleable\"><input class=\"sk-toggleable__control sk-hidden--visually\" id=\"sk-estimator-id-1\" type=\"checkbox\" checked><label for=\"sk-estimator-id-1\" class=\"sk-toggleable__label sk-toggleable__label-arrow\">LinearRegression</label><div class=\"sk-toggleable__content\"><pre>LinearRegression()</pre></div></div></div></div></div>"
      ],
      "text/plain": [
       "LinearRegression()"
      ]
     },
     "execution_count": 31,
     "metadata": {},
     "output_type": "execute_result"
    }
   ],
   "source": [
    "lr.fit(X_train,y_train)"
   ]
  },
  {
   "cell_type": "code",
   "execution_count": 32,
   "metadata": {},
   "outputs": [
    {
     "data": {
      "text/plain": [
       "0.4155954733598094"
      ]
     },
     "execution_count": 32,
     "metadata": {},
     "output_type": "execute_result"
    }
   ],
   "source": [
    "lr.score(X_test,y_test)"
   ]
  },
  {
   "cell_type": "code",
   "execution_count": 33,
   "metadata": {},
   "outputs": [
    {
     "data": {
      "text/plain": [
       "0.4512922226014925"
      ]
     },
     "execution_count": 33,
     "metadata": {},
     "output_type": "execute_result"
    }
   ],
   "source": [
    "lr.score(X_train,y_train)"
   ]
  },
  {
   "cell_type": "code",
   "execution_count": 34,
   "metadata": {},
   "outputs": [
    {
     "data": {
      "text/html": [
       "<style>#sk-container-id-2 {color: black;}#sk-container-id-2 pre{padding: 0;}#sk-container-id-2 div.sk-toggleable {background-color: white;}#sk-container-id-2 label.sk-toggleable__label {cursor: pointer;display: block;width: 100%;margin-bottom: 0;padding: 0.3em;box-sizing: border-box;text-align: center;}#sk-container-id-2 label.sk-toggleable__label-arrow:before {content: \"▸\";float: left;margin-right: 0.25em;color: #696969;}#sk-container-id-2 label.sk-toggleable__label-arrow:hover:before {color: black;}#sk-container-id-2 div.sk-estimator:hover label.sk-toggleable__label-arrow:before {color: black;}#sk-container-id-2 div.sk-toggleable__content {max-height: 0;max-width: 0;overflow: hidden;text-align: left;background-color: #f0f8ff;}#sk-container-id-2 div.sk-toggleable__content pre {margin: 0.2em;color: black;border-radius: 0.25em;background-color: #f0f8ff;}#sk-container-id-2 input.sk-toggleable__control:checked~div.sk-toggleable__content {max-height: 200px;max-width: 100%;overflow: auto;}#sk-container-id-2 input.sk-toggleable__control:checked~label.sk-toggleable__label-arrow:before {content: \"▾\";}#sk-container-id-2 div.sk-estimator input.sk-toggleable__control:checked~label.sk-toggleable__label {background-color: #d4ebff;}#sk-container-id-2 div.sk-label input.sk-toggleable__control:checked~label.sk-toggleable__label {background-color: #d4ebff;}#sk-container-id-2 input.sk-hidden--visually {border: 0;clip: rect(1px 1px 1px 1px);clip: rect(1px, 1px, 1px, 1px);height: 1px;margin: -1px;overflow: hidden;padding: 0;position: absolute;width: 1px;}#sk-container-id-2 div.sk-estimator {font-family: monospace;background-color: #f0f8ff;border: 1px dotted black;border-radius: 0.25em;box-sizing: border-box;margin-bottom: 0.5em;}#sk-container-id-2 div.sk-estimator:hover {background-color: #d4ebff;}#sk-container-id-2 div.sk-parallel-item::after {content: \"\";width: 100%;border-bottom: 1px solid gray;flex-grow: 1;}#sk-container-id-2 div.sk-label:hover label.sk-toggleable__label {background-color: #d4ebff;}#sk-container-id-2 div.sk-serial::before {content: \"\";position: absolute;border-left: 1px solid gray;box-sizing: border-box;top: 0;bottom: 0;left: 50%;z-index: 0;}#sk-container-id-2 div.sk-serial {display: flex;flex-direction: column;align-items: center;background-color: white;padding-right: 0.2em;padding-left: 0.2em;position: relative;}#sk-container-id-2 div.sk-item {position: relative;z-index: 1;}#sk-container-id-2 div.sk-parallel {display: flex;align-items: stretch;justify-content: center;background-color: white;position: relative;}#sk-container-id-2 div.sk-item::before, #sk-container-id-2 div.sk-parallel-item::before {content: \"\";position: absolute;border-left: 1px solid gray;box-sizing: border-box;top: 0;bottom: 0;left: 50%;z-index: -1;}#sk-container-id-2 div.sk-parallel-item {display: flex;flex-direction: column;z-index: 1;position: relative;background-color: white;}#sk-container-id-2 div.sk-parallel-item:first-child::after {align-self: flex-end;width: 50%;}#sk-container-id-2 div.sk-parallel-item:last-child::after {align-self: flex-start;width: 50%;}#sk-container-id-2 div.sk-parallel-item:only-child::after {width: 0;}#sk-container-id-2 div.sk-dashed-wrapped {border: 1px dashed gray;margin: 0 0.4em 0.5em 0.4em;box-sizing: border-box;padding-bottom: 0.4em;background-color: white;}#sk-container-id-2 div.sk-label label {font-family: monospace;font-weight: bold;display: inline-block;line-height: 1.2em;}#sk-container-id-2 div.sk-label-container {text-align: center;}#sk-container-id-2 div.sk-container {/* jupyter's `normalize.less` sets `[hidden] { display: none; }` but bootstrap.min.css set `[hidden] { display: none !important; }` so we also need the `!important` here to be able to override the default hidden behavior on the sphinx rendered scikit-learn.org. See: https://github.com/scikit-learn/scikit-learn/issues/21755 */display: inline-block !important;position: relative;}#sk-container-id-2 div.sk-text-repr-fallback {display: none;}</style><div id=\"sk-container-id-2\" class=\"sk-top-container\"><div class=\"sk-text-repr-fallback\"><pre>RandomForestRegressor()</pre><b>In a Jupyter environment, please rerun this cell to show the HTML representation or trust the notebook. <br />On GitHub, the HTML representation is unable to render, please try loading this page with nbviewer.org.</b></div><div class=\"sk-container\" hidden><div class=\"sk-item\"><div class=\"sk-estimator sk-toggleable\"><input class=\"sk-toggleable__control sk-hidden--visually\" id=\"sk-estimator-id-2\" type=\"checkbox\" checked><label for=\"sk-estimator-id-2\" class=\"sk-toggleable__label sk-toggleable__label-arrow\">RandomForestRegressor</label><div class=\"sk-toggleable__content\"><pre>RandomForestRegressor()</pre></div></div></div></div></div>"
      ],
      "text/plain": [
       "RandomForestRegressor()"
      ]
     },
     "execution_count": 34,
     "metadata": {},
     "output_type": "execute_result"
    }
   ],
   "source": [
    "rf.fit(X_train,y_train)"
   ]
  },
  {
   "cell_type": "code",
   "execution_count": 35,
   "metadata": {},
   "outputs": [
    {
     "data": {
      "text/plain": [
       "0.9803145714658426"
      ]
     },
     "execution_count": 35,
     "metadata": {},
     "output_type": "execute_result"
    }
   ],
   "source": [
    "rf.score(X_train,y_train)"
   ]
  },
  {
   "cell_type": "code",
   "execution_count": 36,
   "metadata": {},
   "outputs": [
    {
     "data": {
      "text/plain": [
       "0.93252008677002"
      ]
     },
     "execution_count": 36,
     "metadata": {},
     "output_type": "execute_result"
    }
   ],
   "source": [
    "rf.score(X_test,y_test)"
   ]
  },
  {
   "cell_type": "code",
   "execution_count": 37,
   "metadata": {},
   "outputs": [],
   "source": [
    "import pickle"
   ]
  },
  {
   "cell_type": "code",
   "execution_count": 38,
   "metadata": {},
   "outputs": [],
   "source": [
    "# Save the model to a file using pickle\n",
    "with open('model.pkl', 'wb') as model_file:\n",
    "    pickle.dump(rf,model_file)"
   ]
  },
  {
   "cell_type": "code",
   "execution_count": 39,
   "metadata": {},
   "outputs": [
    {
     "data": {
      "text/plain": [
       "array([ 47., 838.,   5., 250.,   9.])"
      ]
     },
     "execution_count": 39,
     "metadata": {},
     "output_type": "execute_result"
    }
   ],
   "source": [
    "X_test.iloc[0].values"
   ]
  },
  {
   "cell_type": "code",
   "execution_count": null,
   "metadata": {},
   "outputs": [],
   "source": []
  }
 ],
 "metadata": {
  "kernelspec": {
   "display_name": "Python 3",
   "language": "python",
   "name": "python3"
  },
  "language_info": {
   "codemirror_mode": {
    "name": "ipython",
    "version": 3
   },
   "file_extension": ".py",
   "mimetype": "text/x-python",
   "name": "python",
   "nbconvert_exporter": "python",
   "pygments_lexer": "ipython3",
   "version": "3.11.4"
  }
 },
 "nbformat": 4,
 "nbformat_minor": 2
}
